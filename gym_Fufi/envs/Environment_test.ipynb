{
  "nbformat": 4,
  "nbformat_minor": 0,
  "metadata": {
    "colab": {
      "provenance": []
    },
    "kernelspec": {
      "name": "python3",
      "display_name": "Python 3"
    },
    "language_info": {
      "name": "python"
    }
  },
  "cells": [
    {
      "cell_type": "markdown",
      "source": [
        "# Test the environment\n",
        "This notebook shows how to create the environment FUFI and render it. Remember: must upload the environment to use it."
      ],
      "metadata": {
        "id": "k_ZyHCA5_4dg"
      }
    },
    {
      "cell_type": "markdown",
      "source": [
        "## Burocracy\n",
        "importing libraries and install dependencies nedeed for rendering."
      ],
      "metadata": {
        "id": "KCJ7HulhAGWr"
      }
    },
    {
      "cell_type": "code",
      "source": [
        "# Checking gpu\n",
        "import tensorflow as tf\n",
        "device_name = tf.test.gpu_device_name()\n",
        "if device_name != '/device:GPU:0':\n",
        "  raise SystemError('GPU device not found')\n",
        "print('Found GPU at: {}'.format(device_name))\n",
        "\n",
        "# Install dependencies\n",
        "!apt-get install x11-utils > /dev/null 2>&1\n",
        "!pip install pyglet > /dev/null 2>&1\n",
        "!apt-get install -y xvfb python-opengl > /dev/null 2>&1\n",
        "!pip install gym pyvirtualdisplay > /dev/null 2>&1"
      ],
      "metadata": {
        "colab": {
          "base_uri": "https://localhost:8080/",
          "height": 247
        },
        "id": "RQV1ipaNAXU3",
        "outputId": "bb33128c-9de0-4d06-f008-3524c26c5205"
      },
      "execution_count": 1,
      "outputs": [
        {
          "output_type": "error",
          "ename": "SystemError",
          "evalue": "ignored",
          "traceback": [
            "\u001b[0;31m---------------------------------------------------------------------------\u001b[0m",
            "\u001b[0;31mSystemError\u001b[0m                               Traceback (most recent call last)",
            "\u001b[0;32m<ipython-input-1-e3a43c74a263>\u001b[0m in \u001b[0;36m<cell line: 4>\u001b[0;34m()\u001b[0m\n\u001b[1;32m      3\u001b[0m \u001b[0mdevice_name\u001b[0m \u001b[0;34m=\u001b[0m \u001b[0mtf\u001b[0m\u001b[0;34m.\u001b[0m\u001b[0mtest\u001b[0m\u001b[0;34m.\u001b[0m\u001b[0mgpu_device_name\u001b[0m\u001b[0;34m(\u001b[0m\u001b[0;34m)\u001b[0m\u001b[0;34m\u001b[0m\u001b[0;34m\u001b[0m\u001b[0m\n\u001b[1;32m      4\u001b[0m \u001b[0;32mif\u001b[0m \u001b[0mdevice_name\u001b[0m \u001b[0;34m!=\u001b[0m \u001b[0;34m'/device:GPU:0'\u001b[0m\u001b[0;34m:\u001b[0m\u001b[0;34m\u001b[0m\u001b[0;34m\u001b[0m\u001b[0m\n\u001b[0;32m----> 5\u001b[0;31m   \u001b[0;32mraise\u001b[0m \u001b[0mSystemError\u001b[0m\u001b[0;34m(\u001b[0m\u001b[0;34m'GPU device not found'\u001b[0m\u001b[0;34m)\u001b[0m\u001b[0;34m\u001b[0m\u001b[0;34m\u001b[0m\u001b[0m\n\u001b[0m\u001b[1;32m      6\u001b[0m \u001b[0mprint\u001b[0m\u001b[0;34m(\u001b[0m\u001b[0;34m'Found GPU at: {}'\u001b[0m\u001b[0;34m.\u001b[0m\u001b[0mformat\u001b[0m\u001b[0;34m(\u001b[0m\u001b[0mdevice_name\u001b[0m\u001b[0;34m)\u001b[0m\u001b[0;34m)\u001b[0m\u001b[0;34m\u001b[0m\u001b[0;34m\u001b[0m\u001b[0m\n\u001b[1;32m      7\u001b[0m \u001b[0;34m\u001b[0m\u001b[0m\n",
            "\u001b[0;31mSystemError\u001b[0m: GPU device not found"
          ]
        }
      ]
    },
    {
      "cell_type": "code",
      "source": [
        "\n",
        "import gym\n",
        "import numpy as np\n",
        "import random\n",
        "from matplotlib import pyplot\n",
        "import matplotlib.pyplot as plt\n",
        "#display plot in a notebook\n",
        "%matplotlib inline\n",
        "\n",
        "#graphic render of the environment\n",
        "from IPython import display as ipythondisplay"
      ],
      "metadata": {
        "id": "VhYC15EKApCY"
      },
      "execution_count": null,
      "outputs": []
    },
    {
      "cell_type": "code",
      "source": [
        "# Making the environment\n",
        "from Fufi_Env import FUFI\n",
        "env = FUFI('s', render_mode='rgb_array')\n",
        "env.reset()"
      ],
      "metadata": {
        "id": "2jPSCyLOA6oW"
      },
      "execution_count": null,
      "outputs": []
    },
    {
      "cell_type": "code",
      "source": [
        "# render the environment\n",
        "screen = env.render()\n",
        "plt.imshow(screen)\n",
        "ipythondisplay.clear_output(wait=True)\n",
        "ipythondisplay.display(plt.gcf())"
      ],
      "metadata": {
        "id": "pxVJ6djKAve1"
      },
      "execution_count": null,
      "outputs": []
    },
    {
      "cell_type": "code",
      "source": [
        "# making the action\n",
        "env.step(3)\n",
        "screen = env.render()\n",
        "plt.imshow(screen)\n",
        "ipythondisplay.clear_output(wait=True)\n",
        "ipythondisplay.display(plt.gcf())"
      ],
      "metadata": {
        "id": "X9Cc90Q7A3Id"
      },
      "execution_count": null,
      "outputs": []
    }
  ]
}