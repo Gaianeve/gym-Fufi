{
  "nbformat": 4,
  "nbformat_minor": 0,
  "metadata": {
    "colab": {
      "provenance": [],
      "toc_visible": true,
      "gpuType": "T4"
    },
    "kernelspec": {
      "name": "python3",
      "display_name": "Python 3"
    },
    "language_info": {
      "name": "python"
    },
    "accelerator": "GPU"
  },
  "cells": [
    {
      "cell_type": "markdown",
      "source": [
        "# FUFI environment\n",
        "The environment for our real life Cart-Pole"
      ],
      "metadata": {
        "id": "CQe2El19qPLW"
      }
    },
    {
      "cell_type": "markdown",
      "source": [
        "## Description\n",
        "A pole is attached by an un-actuated joint to a cart, which moves along a track with friction.\n",
        "The pendulum is placed upright on the cart and the goal is to balance the pole by applying forces in the left and right direction on the cart.\n",
        "\n",
        "****\n",
        "                                    Action Space\n",
        "\n",
        "The action is a `ndarray` with shape `(1,)` which can take values in the interval `{F_max, F_max}` indicating the magnitude of the force the cart is pushed with. Basically we take a discrete action space, in which the minimum corresponds to -F_max - AKA the maximum force our engine can give - and +F_max as the maximum. The steps between one value and the other is the minimum force our engine can produce, let's say 1 for the time being. Sign - and + refers to our sistem of reference.\n",
        "\n",
        "    | Num  | Action                              |\n",
        "    |------|-------------------------------------|\n",
        "    |   0  | Push cart to the left with F=10 N   |\n",
        "    |   1  | Push cart to the left with F=9.9 N  |\n",
        "    | ---- | ----------------------------------- |\n",
        "    |  10  |      Push cart with null force      |\n",
        "    | ---- | ----------------------------------- |\n",
        "    |  19  | Push cart to the right with F=9.9 N |\n",
        "    |  20  | Push cart to the right with F=10 N  |\n",
        "\n",
        "In RL the action space has to be defined with positive values, so the index of each action has to be mapped into the value of the force.\n",
        "Given this, doing some math, we get:\n",
        "*  `Action space length` : 2*F_max/sensibility +1\n",
        "*  `Action index of null force` : F_max\n",
        "*  `Force vector`        : -F_max + action_index*sensibility\n",
        "    \n",
        "****\n",
        "                                    Observation Space\n",
        "\n",
        "The observation is a `ndarray` with shape `(4,)` with the values corresponding to the following positions and velocities:\n",
        "\n",
        "    |Num|   Observation  |    Min     |    Max    |\n",
        "    |---|----------------|------------|-----------|\n",
        "    | 0 |  Pole a_t      | -F_max/m_p | F_max/m_p |\n",
        "    | 1 | Pole Theta     | ~ (-24°)   | ~ (24°)   |\n",
        "    | 2 | Pole Theta dot |    -Inf    |   Inf     |\n",
        "\n",
        "*Note:* While the ranges above denote the possible values for observation space of each element, it is not reflective of the allowed values of the state space in an unterminated episode. In particular:\n",
        "\n",
        "-The cart x-position (index 0) can be take values between `(-4.8, 4.8)`, but the episode terminates if the cart leaves the `(-2.4, 2.4)` range, that means it hits the end of the track.\n",
        "\n",
        "-The pole angle can be observed between `(-.418, .418)` radians `(or ±24°)`, but the episode terminates if the pole angle is not in the range `(-.0349, .0349)` `(or ±2°)`.\n",
        "\n",
        "****\n",
        "                                    Rewards\n",
        "\n",
        "Since the goal is to keep the pole upright for as long as possible, a reward of `+1` for every step taken,including the termination step, is allotted. The threshold for rewards is raised to 1000.\n",
        "****\n",
        "                                  Manner\n",
        "There are 2 ways implemented in this code:\n",
        "1. *Real world* : we take the real FUFI and attach it to the Arduino. The states are measured and imported from a `.txt` file.\n",
        "\n",
        "2. *Ideas world* : simulation mode. The states are computed using the motion equations of the sistem.\n",
        "****\n",
        "                                  Starting State\n",
        "\n",
        "In simulation mode all observations are assigned a uniformly random value in `(-0.05, 0.05)`, in real world mode we take as initial state the inital measures.\n",
        "****\n",
        "                                  Episode End\n",
        "\n",
        "The episode ends if any one of the following occurs:\n",
        "1. Termination: Pole Angle is greater than ±2°;\n",
        "2. Termination: Cart Position is greater than ±2.4,that is when the center of the cart reaches the edge of the display;\n",
        "3. Truncation: Episode length is greater than 1500;\n",
        "****\n",
        "                                Arguments\n",
        "1. `gym.make('Fufi')`"
      ],
      "metadata": {
        "id": "-LfFT27fqdhK"
      }
    },
    {
      "cell_type": "code",
      "source": [
        "# importing things\n",
        "import math\n",
        "from typing import Optional, Union\n",
        "\n",
        "import numpy as np\n",
        "\n",
        "import gym\n",
        "from gym import logger, spaces\n",
        "from gym.envs.classic_control import utils\n",
        "from gym.error import DependencyNotInstalled\n"
      ],
      "metadata": {
        "id": "rPYo9IBXyp7B"
      },
      "execution_count": 2,
      "outputs": []
    },
    {
      "cell_type": "markdown",
      "source": [
        "Here our class takes the parameter `exp_mode` (string) that basically tells you if you're working with the real or the simulated FUFI.\n",
        "\n",
        "*   `exp_mode` = r    ---------->     Real FUFI\n",
        "*   `exp_mode` = s    ---------->     Simulated FUFI\n",
        "\n",
        "**Note**: the parameter sensibility has to be a usable number so that the action space is symmetrical."
      ],
      "metadata": {
        "id": "02Ze1UoS8nb7"
      }
    },
    {
      "cell_type": "code",
      "source": [
        "class FUFI(gym.Env[np.ndarray, Union[int, np.ndarray]]):\n",
        "  metadata = {\n",
        "        \"render_modes\": [\"human\", \"rgb_array\"],\n",
        "        \"render_fps\": 50,\n",
        "    }\n",
        "\n",
        "  def __init__(self, exp_mode, render_mode: Optional[str] = None):\n",
        "## ---------------------------------------- FUFI parameters --------------------------------------- ##\n",
        "## To be changed according to the instrument\n",
        "\n",
        "    self.gravity = 9.8          # m/s**2\n",
        "    self.masscart = 1.0         # Kg\n",
        "    self.masspole = 0.1         # Kg\n",
        "    self.total_mass = self.masspole + self.masscart\n",
        "    self.length = 0.5           # m. Actually half the pole's length\n",
        "    self.polemass_length = self.masspole * self.length\n",
        "    self.max_force_mag = 10.0    # N. Maximum force the engine can produce\n",
        "    self.tau = 0.02              # seconds between state updates (integration pace)\n",
        "    self.kinematics_integrator = \"euler\"\n",
        "    self.sensibility = 0.1      # minimum force mag our engine can produce.\n",
        "                                # Here let's take 0.1\n",
        "    self.mode = exp_mode        # Way of usage\n",
        "    assert self.mode == 's' or self.mode == 'r', \"Invalid mode. Insert s, for simulation mode; r for real world mode\"\n",
        "    # Angle at which to fail the episode\n",
        "    self.theta_threshold_radians = 2 * 2 * math.pi / 360\n",
        "    # Hits the wall\n",
        "    self.x_threshold = 2.4\n",
        "\n",
        "    # Angle limit set to 2 * theta_threshold_radians so failing observation\n",
        "    # is still within bounds.\n",
        "    high = np.array(\n",
        "        [\n",
        "            self.x_threshold * 2,\n",
        "            np.finfo(np.float32).max,\n",
        "            self.theta_threshold_radians * 2,\n",
        "            np.finfo(np.float32).max,\n",
        "        ],\n",
        "        dtype=np.float32,\n",
        "    )\n",
        "\n",
        "    action_space_length = (2*self.max_force_mag)/self.sensibility +1\n",
        "    # check if it's integer or not\n",
        "    assert (action_space_length%1 == 0), \"Action space length is not an integer, please,\" \\\n",
        "    \"dear human make my life easier and choose an integer value for F_max/sensibility \"\n",
        "\n",
        "    self.action_space = spaces.Discrete(int(action_space_length))\n",
        "    self.observation_space = spaces.Box(-high, high, dtype=np.float32)\n",
        "\n",
        "    self.render_mode = render_mode\n",
        "\n",
        "    self.screen_width = 600\n",
        "    self.screen_height = 400\n",
        "    self.screen = None\n",
        "    self.clock = None\n",
        "    self.isopen = True\n",
        "    self.state = None\n",
        "    self.cart_coordinate = None # x, x_dot\n",
        "\n",
        "    self.steps_beyond_terminated = None\n",
        "\n",
        "### ---------------------------------------- STEP FUNCTION -------------------------------------------##\n",
        "  def step(self, action):\n",
        "    ## Simulated FUFI\n",
        "    if self.mode == 's':\n",
        "      # Check if action is in the right form\n",
        "      err_msg = f\"{action!r} ({type(action)}) invalid\"\n",
        "      assert self.action_space.contains(action), err_msg\n",
        "      assert self.state is not None, \"Call reset before using step method.\"\n",
        "\n",
        "      #Assign present state and cart coordinate\n",
        "      a_t, theta, theta_dot = self.state\n",
        "      x, x_dot = self.cart_coordinate\n",
        "\n",
        "      costheta = math.cos(theta)\n",
        "      sintheta = math.sin(theta)\n",
        "\n",
        "      # Mapping action into force and apply to the cart\n",
        "      self.force = -self.max_force_mag + action*self.sensibility\n",
        "\n",
        "      # Getting next state by resolving the sistem analitically\n",
        "      temp = (\n",
        "            self.force + self.polemass_length * theta_dot**2 * sintheta\n",
        "        ) / self.total_mass\n",
        "      thetaacc = (self.gravity * sintheta/2 - costheta * temp) / (\n",
        "            self.length * (4.0/3.0 - self.masspole * costheta**2 / self.total_mass)\n",
        "        )\n",
        "      xacc = temp - self.polemass_length * thetaacc * costheta / self.total_mass\n",
        "      a_t = xacc * costheta + self.length * thetaacc - self.gravity * sintheta\n",
        "\n",
        "      if self.kinematics_integrator == \"euler\":\n",
        "          x = x + self.tau * x_dot\n",
        "          x_dot = x_dot + self.tau * xacc\n",
        "          theta = theta + self.tau * theta_dot\n",
        "          theta_dot = theta_dot + self.tau * thetaacc\n",
        "      else:  # semi-implicit euler\n",
        "          x_dot = x_dot + self.tau * xacc\n",
        "          x = x + self.tau * x_dot\n",
        "          theta_dot = theta_dot + self.tau * thetaacc\n",
        "          theta = theta + self.tau * theta_dot\n",
        "\n",
        "      # Assign next state\n",
        "      self.state = (a_t, theta, theta_dot)\n",
        "      self.cart_coordinate = (x, x_dot)\n",
        "\n",
        "      # Check termination\n",
        "      terminated = bool(\n",
        "            x < -self.x_threshold\n",
        "            or x > self.x_threshold\n",
        "            or theta < -self.theta_threshold_radians\n",
        "            or theta > self.theta_threshold_radians\n",
        "        )\n",
        "\n",
        "      if not terminated:\n",
        "          reward = 1.0\n",
        "      elif self.steps_beyond_terminated is None:\n",
        "          # Pole just fell!\n",
        "          self.steps_beyond_terminated = 0\n",
        "          reward = 1.0\n",
        "      else:\n",
        "          if self.steps_beyond_terminated == 0:\n",
        "              logger.warn(\n",
        "                  \"You are calling 'step()' even though this \"\n",
        "                  \"environment has already returned terminated = True. You \"\n",
        "                  \"should always call 'reset()' once you receive 'terminated = \"\n",
        "                  \"True' -- any further steps are undefined behavior.\"\n",
        "              )\n",
        "          self.steps_beyond_terminated += 1\n",
        "          reward = 0.0\n",
        "\n",
        "      if self.render_mode == \"human\":\n",
        "          self.render()\n",
        "\n",
        "      return np.array(self.state, dtype=np.float32), reward, terminated, False, {}\n",
        "\n",
        "    else:\n",
        "      print('Real world cartpole non implemented yet')\n",
        "\n",
        "\n",
        "### -------------------------------------- RESET FUNCTION ------------------------------------------##\n",
        "# Initialize state as described above\n",
        "  def reset(\n",
        "      self,\n",
        "      *,\n",
        "      seed: Optional[int] = None,\n",
        "      options: Optional[dict] = None,\n",
        "  ):\n",
        "      super().reset(seed=seed)\n",
        "      # Note that if you use custom reset bounds, it may lead to out-of-bound\n",
        "      # state/observations.\n",
        "      low, high = utils.maybe_parse_reset_bounds(\n",
        "          options, -0.05, 0.05  # default low\n",
        "      )  # default high\n",
        "      self.state = self.np_random.uniform(low=low, high=high, size=(3,))\n",
        "      self.cart_coordinate = self.np_random.uniform(low=low, high=high, size=(2,))\n",
        "      self.steps_beyond_terminated = None\n",
        "\n",
        "      if self.render_mode == \"human\":\n",
        "          self.render()\n",
        "      return np.array(self.state, dtype=np.float32), {}\n",
        "\n",
        "### -------------------------------- RENDER FUNCTION ------------------------------------- ##\n",
        "# Display the environment\n",
        "  def render(self):\n",
        "      if self.render_mode is None:\n",
        "          gym.logger.warn(\n",
        "              \"You are calling render method without specifying any render mode. \"\n",
        "              \"You can specify the render_mode at initialization, \"\n",
        "              f'e.g. gym(\"{self.spec.id}\", render_mode=\"rgb_array\")'\n",
        "          )\n",
        "          return\n",
        "\n",
        "      try:\n",
        "          import pygame\n",
        "          from pygame import gfxdraw\n",
        "      except ImportError:\n",
        "          raise DependencyNotInstalled(\n",
        "              \"pygame is not installed, run `pip install gym[classic_control]`\"\n",
        "          )\n",
        "\n",
        "      if self.screen is None:\n",
        "          pygame.init()\n",
        "          if self.render_mode == \"human\":\n",
        "              pygame.display.init()\n",
        "              self.screen = pygame.display.set_mode(\n",
        "                  (self.screen_width, self.screen_height)\n",
        "              )\n",
        "          else:  # mode == \"rgb_array\"\n",
        "              self.screen = pygame.Surface((self.screen_width, self.screen_height))\n",
        "      if self.clock is None:\n",
        "          self.clock = pygame.time.Clock()\n",
        "\n",
        "      world_width = self.x_threshold * 2\n",
        "      scale = self.screen_width / world_width\n",
        "      polewidth = 10.0\n",
        "      polelen = scale * (2 * self.length)\n",
        "      cartwidth = 50.0\n",
        "      cartheight = 30.0\n",
        "\n",
        "      if self.state is None:\n",
        "          return None\n",
        "\n",
        "      x = self.state\n",
        "\n",
        "      self.surf = pygame.Surface((self.screen_width, self.screen_height))\n",
        "      self.surf.fill((255, 255, 255))\n",
        "\n",
        "      l, r, t, b = -cartwidth / 2, cartwidth / 2, cartheight / 2, -cartheight / 2\n",
        "      axleoffset = cartheight / 4.0\n",
        "      cartx = x[0] * scale + self.screen_width / 2.0  # MIDDLE OF CART\n",
        "      carty = 100  # TOP OF CART\n",
        "      cart_coords = [(l, b), (l, t), (r, t), (r, b)]\n",
        "      cart_coords = [(c[0] + cartx, c[1] + carty) for c in cart_coords]\n",
        "      gfxdraw.aapolygon(self.surf, cart_coords, (0, 0, 0))\n",
        "      gfxdraw.filled_polygon(self.surf, cart_coords, (0, 0, 0))\n",
        "\n",
        "      l, r, t, b = (\n",
        "          -polewidth / 2,\n",
        "          polewidth / 2,\n",
        "          polelen - polewidth / 2,\n",
        "          -polewidth / 2,\n",
        "      )\n",
        "\n",
        "      pole_coords = []\n",
        "      for coord in [(l, b), (l, t), (r, t), (r, b)]:\n",
        "          coord = pygame.math.Vector2(coord).rotate_rad(-x[2])\n",
        "          coord = (coord[0] + cartx, coord[1] + carty + axleoffset)\n",
        "          pole_coords.append(coord)\n",
        "      gfxdraw.aapolygon(self.surf, pole_coords, (202, 152, 101))\n",
        "      gfxdraw.filled_polygon(self.surf, pole_coords, (202, 152, 101))\n",
        "\n",
        "      gfxdraw.aacircle(\n",
        "          self.surf,\n",
        "          int(cartx),\n",
        "          int(carty + axleoffset),\n",
        "          int(polewidth / 2),\n",
        "          (129, 132, 203),\n",
        "      )\n",
        "      gfxdraw.filled_circle(\n",
        "          self.surf,\n",
        "          int(cartx),\n",
        "          int(carty + axleoffset),\n",
        "          int(polewidth / 2),\n",
        "          (129, 132, 203),\n",
        "      )\n",
        "\n",
        "      gfxdraw.hline(self.surf, 0, self.screen_width, carty, (0, 0, 0))\n",
        "\n",
        "      self.surf = pygame.transform.flip(self.surf, False, True)\n",
        "      self.screen.blit(self.surf, (0, 0))\n",
        "      if self.render_mode == \"human\":\n",
        "          pygame.event.pump()\n",
        "          self.clock.tick(self.metadata[\"render_fps\"])\n",
        "          pygame.display.flip()\n",
        "\n",
        "      elif self.render_mode == \"rgb_array\":\n",
        "          return np.transpose(\n",
        "              np.array(pygame.surfarray.pixels3d(self.screen)), axes=(1, 0, 2)\n",
        "          )\n",
        "## ------------------------------------- CLOSE FUNCTION --------------------------------------##\n",
        "# Close the rendering\n",
        "  def close(self):\n",
        "      if self.screen is not None:\n",
        "          import pygame\n",
        "\n",
        "          pygame.display.quit()\n",
        "          pygame.quit()\n",
        "          self.isopen = False"
      ],
      "metadata": {
        "id": "Bmi1uGn_3P4A",
        "colab": {
          "base_uri": "https://localhost:8080/"
        },
        "outputId": "ac249b99-d2f2-46a8-d105-22b6cc8c4a85"
      },
      "execution_count": 3,
      "outputs": [
        {
          "output_type": "stream",
          "name": "stderr",
          "text": [
            "/usr/local/lib/python3.10/dist-packages/ipykernel/ipkernel.py:283: DeprecationWarning: `should_run_async` will not call `transform_cell` automatically in the future. Please pass the result to `transformed_cell` argument and any exception that happen during thetransform in `preprocessing_exc_tuple` in IPython 7.17 and above.\n",
            "  and should_run_async(code)\n"
          ]
        }
      ]
    },
    {
      "cell_type": "markdown",
      "source": [],
      "metadata": {
        "id": "gsiI24XMf5HS"
      }
    },
    {
      "cell_type": "code",
      "source": [],
      "metadata": {
        "colab": {
          "base_uri": "https://localhost:8080/"
        },
        "id": "2oYaBfVo-KQX",
        "outputId": "1f2b8384-aa97-4277-e983-f01f63120e46"
      },
      "execution_count": 9,
      "outputs": [
        {
          "output_type": "stream",
          "name": "stderr",
          "text": [
            "/usr/local/lib/python3.10/dist-packages/tensorflow/python/framework/dtypes.py:35: DeprecationWarning: ml_dtypes.float8_e4m3b11 is deprecated. Use ml_dtypes.float8_e4m3b11fnuz\n",
            "  from tensorflow.tsl.python.lib.core import pywrap_ml_dtypes\n"
          ]
        },
        {
          "output_type": "stream",
          "name": "stdout",
          "text": [
            "Found GPU at: /device:GPU:0\n"
          ]
        }
      ]
    },
    {
      "cell_type": "code",
      "source": [],
      "metadata": {
        "id": "pr6NZ8NE-Vs3"
      },
      "execution_count": 17,
      "outputs": []
    },
    {
      "cell_type": "code",
      "source": [],
      "metadata": {
        "id": "2gnVbn5RAy7B",
        "colab": {
          "base_uri": "https://localhost:8080/"
        },
        "outputId": "1275da07-2356-4272-802c-eb03e19b01a2"
      },
      "execution_count": 20,
      "outputs": [
        {
          "output_type": "execute_result",
          "data": {
            "text/plain": [
              "(array([ 0.03318927, -0.02128921,  0.04620332], dtype=float32), {})"
            ]
          },
          "metadata": {},
          "execution_count": 20
        }
      ]
    },
    {
      "cell_type": "code",
      "source": [],
      "metadata": {
        "colab": {
          "base_uri": "https://localhost:8080/",
          "height": 775
        },
        "id": "cvSp-GhPcOw_",
        "outputId": "43935864-9f04-41f3-d113-c9d0d74eb5ea"
      },
      "execution_count": 22,
      "outputs": [
        {
          "output_type": "display_data",
          "data": {
            "text/plain": [
              "<Figure size 640x480 with 1 Axes>"
            ],
            "image/png": "[encoded data removed]"
          },
          "metadata": {}
        },
        {
          "output_type": "display_data",
          "data": {
            "text/plain": [
              "<Figure size 640x480 with 1 Axes>"
            ],
            "image/png": "[encoded data removed]"
          },
          "metadata": {}
        }
      ]
    },
    {
      "cell_type": "code",
      "source": [],
      "metadata": {
        "colab": {
          "base_uri": "https://localhost:8080/",
          "height": 775
        },
        "id": "Ff1XDNhDhjLP",
        "outputId": "d42108c4-34d8-483b-ae33-d9b06548d37b"
      },
      "execution_count": 23,
      "outputs": [
        {
          "output_type": "display_data",
          "data": {
            "text/plain": [
              "<Figure size 640x480 with 1 Axes>"
            ],
            "image/png": "[encoded data removed]"
          },
          "metadata": {}
        },
        {
          "output_type": "display_data",
          "data": {
            "text/plain": [
              "<Figure size 640x480 with 1 Axes>"
            ],
            "image/png": "[encoded data removed]"
          },
          "metadata": {}
        }
      ]
    },
    {
      "cell_type": "code",
      "source": [],
      "metadata": {
        "id": "i3ClmXJl9qLl"
      },
      "execution_count": null,
      "outputs": []
    }
  ]
}